{
 "cells": [
  {
   "cell_type": "markdown",
   "id": "2285500d",
   "metadata": {},
   "source": [
    "# Day 01"
   ]
  },
  {
   "cell_type": "markdown",
   "id": "8f069cda",
   "metadata": {},
   "source": [
    "## Variable"
   ]
  },
  {
   "cell_type": "code",
   "execution_count": null,
   "id": "f5df64bc",
   "metadata": {},
   "outputs": [
    {
     "data": {
      "text/plain": [
       "int"
      ]
     },
     "execution_count": 2,
     "metadata": {},
     "output_type": "execute_result"
    }
   ],
   "source": [
    "a = 2\n",
    "type(a)"
   ]
  },
  {
   "cell_type": "code",
   "execution_count": null,
   "id": "1844804f",
   "metadata": {},
   "outputs": [
    {
     "data": {
      "text/plain": [
       "float"
      ]
     },
     "execution_count": 3,
     "metadata": {},
     "output_type": "execute_result"
    }
   ],
   "source": [
    "b = 5.78\n",
    "type(b)"
   ]
  },
  {
   "cell_type": "code",
   "execution_count": null,
   "id": "ddac0637",
   "metadata": {},
   "outputs": [
    {
     "data": {
      "text/plain": [
       "str"
      ]
     },
     "execution_count": 4,
     "metadata": {},
     "output_type": "execute_result"
    }
   ],
   "source": [
    "c = 'Python'\n",
    "type(c)"
   ]
  },
  {
   "cell_type": "markdown",
   "id": "fe8fe2d9",
   "metadata": {},
   "source": [
    "## Data type\n",
    "1. integer\n",
    "2. float\n",
    "3. String\n",
    "4. boolean\n",
    "5. complex"
   ]
  },
  {
   "cell_type": "code",
   "execution_count": null,
   "id": "885791c0",
   "metadata": {},
   "outputs": [
    {
     "data": {
      "text/plain": [
       "complex"
      ]
     },
     "execution_count": 5,
     "metadata": {},
     "output_type": "execute_result"
    }
   ],
   "source": [
    "f = 3+8j\n",
    "type(f)"
   ]
  },
  {
   "cell_type": "markdown",
   "id": "57967292",
   "metadata": {},
   "source": [
    "## Operators"
   ]
  },
  {
   "cell_type": "markdown",
   "id": "0302dc9a",
   "metadata": {},
   "source": [
    "Arithmetic Operators"
   ]
  },
  {
   "cell_type": "code",
   "execution_count": null,
   "id": "ef816c43",
   "metadata": {},
   "outputs": [],
   "source": [
    "a = 20\n",
    "b = 10"
   ]
  },
  {
   "cell_type": "code",
   "execution_count": null,
   "id": "b1b3f949",
   "metadata": {},
   "outputs": [
    {
     "name": "stdout",
     "output_type": "stream",
     "text": [
      "Addition: 30\n",
      "Substraction: 10\n",
      "Multiplication: 200\n",
      "Division: 2.0\n",
      "Floor Division: 2\n",
      "Modulus: 0\n",
      "Exponential: 10240000000000\n"
     ]
    }
   ],
   "source": [
    "print(\"Addition:\",a+b)\n",
    "print(\"Substraction:\",a-b)\n",
    "print(\"Multiplication:\",a*b)\n",
    "print(\"Division:\",a/b)\n",
    "print(\"Floor Division:\",a//b)\n",
    "print(\"Modulus:\",a%b)\n",
    "print(\"Exponential:\",a**b)"
   ]
  },
  {
   "cell_type": "markdown",
   "id": "551f3b6f",
   "metadata": {},
   "source": [
    "Comparison Operators"
   ]
  },
  {
   "cell_type": "code",
   "execution_count": null,
   "id": "72c020ba",
   "metadata": {},
   "outputs": [],
   "source": [
    "prashant = 90\n",
    "aryan = 70"
   ]
  },
  {
   "cell_type": "code",
   "execution_count": null,
   "id": "3227ba8c",
   "metadata": {},
   "outputs": [
    {
     "data": {
      "text/plain": [
       "False"
      ]
     },
     "execution_count": 11,
     "metadata": {},
     "output_type": "execute_result"
    }
   ],
   "source": [
    "print(\"Equal to:\", prashant == aryan)\n",
    "print(\"Not equal to:\", prashant != aryan)\n",
    "print(\"Greater than:\", prashant > aryan)\n",
    "print(\"Less than:\", prashant < aryan)"
   ]
  },
  {
   "cell_type": "markdown",
   "id": "1017d223",
   "metadata": {},
   "source": [
    "Logical Operators"
   ]
  },
  {
   "cell_type": "code",
   "execution_count": null,
   "id": "eb4d7c96",
   "metadata": {},
   "outputs": [],
   "source": [
    "war_happened = True\n",
    "uni_holiday = False"
   ]
  },
  {
   "cell_type": "code",
   "execution_count": null,
   "id": "b7654b8b",
   "metadata": {},
   "outputs": [
    {
     "name": "stdout",
     "output_type": "stream",
     "text": [
      "True\n",
      "True\n"
     ]
    }
   ],
   "source": [
    "print(war_happened and uni_holiday)\n",
    "print(war_happened or uni_holiday)\n",
    "print(not war_happened and uni_holiday)"
   ]
  }
 ],
 "metadata": {
  "kernelspec": {
   "display_name": "Python 3",
   "language": "python",
   "name": "python3"
  },
  "language_info": {
   "codemirror_mode": {
    "name": "ipython",
    "version": 3
   },
   "file_extension": ".py",
   "mimetype": "text/x-python",
   "name": "python",
   "nbconvert_exporter": "python",
   "pygments_lexer": "ipython3",
   "version": "3.13.1"
  }
 },
 "nbformat": 4,
 "nbformat_minor": 5
}
